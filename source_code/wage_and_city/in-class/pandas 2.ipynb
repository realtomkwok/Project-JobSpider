{
 "cells": [
  {
   "cell_type": "code",
   "execution_count": 1,
   "metadata": {},
   "outputs": [
    {
     "data": {
      "text/html": [
       "<div>\n",
       "<style scoped>\n",
       "    .dataframe tbody tr th:only-of-type {\n",
       "        vertical-align: middle;\n",
       "    }\n",
       "\n",
       "    .dataframe tbody tr th {\n",
       "        vertical-align: top;\n",
       "    }\n",
       "\n",
       "    .dataframe thead th {\n",
       "        text-align: right;\n",
       "    }\n",
       "</style>\n",
       "<table border=\"1\" class=\"dataframe\">\n",
       "  <thead>\n",
       "    <tr style=\"text-align: right;\">\n",
       "      <th></th>\n",
       "      <th>Data</th>\n",
       "    </tr>\n",
       "    <tr>\n",
       "      <th>Key</th>\n",
       "      <th></th>\n",
       "    </tr>\n",
       "  </thead>\n",
       "  <tbody>\n",
       "    <tr>\n",
       "      <th>A</th>\n",
       "      <td>5</td>\n",
       "    </tr>\n",
       "    <tr>\n",
       "      <th>B</th>\n",
       "      <td>7</td>\n",
       "    </tr>\n",
       "    <tr>\n",
       "      <th>C</th>\n",
       "      <td>9</td>\n",
       "    </tr>\n",
       "  </tbody>\n",
       "</table>\n",
       "</div>"
      ],
      "text/plain": [
       "     Data\n",
       "Key      \n",
       "A       5\n",
       "B       7\n",
       "C       9"
      ]
     },
     "execution_count": 1,
     "metadata": {},
     "output_type": "execute_result"
    }
   ],
   "source": [
    "import pandas as pd\n",
    "df = pd.DataFrame({\n",
    "    \"Key\": [\"A\", \"B\", \"C\", \"A\", \"B\", \"C\"],\n",
    "    \"Data\": [1, 2, 3, 4, 5, 6]\n",
    "})\n",
    "df.groupby(\"Key\").sum() # mean(), size()"
   ]
  },
  {
   "cell_type": "code",
   "execution_count": 2,
   "metadata": {},
   "outputs": [],
   "source": [
    "df = pd.read_csv(\"IMDB-Movie-Data.csv\")\n",
    "df_meta = pd.read_excel(\"movies_meta.xlsx\")"
   ]
  },
  {
   "cell_type": "code",
   "execution_count": 3,
   "metadata": {
    "scrolled": true
   },
   "outputs": [
    {
     "data": {
      "text/plain": [
       "director\n",
       "Ridley Scott            8\n",
       "Michael Bay             6\n",
       "David Yates             6\n",
       "Paul W.S. Anderson      6\n",
       "M. Night Shyamalan      6\n",
       "Denis Villeneuve        5\n",
       "Peter Berg              5\n",
       "Zack Snyder             5\n",
       "Martin Scorsese         5\n",
       "J.J. Abrams             5\n",
       "Justin Lin              5\n",
       "Danny Boyle             5\n",
       "Antoine Fuqua           5\n",
       "Woody Allen             5\n",
       "Christopher Nolan       5\n",
       "David Fincher           5\n",
       "Robert Zemeckis         4\n",
       "Mike Flanagan           4\n",
       "Alexandre Aja           4\n",
       "Joe Wright              4\n",
       "Paul Feig               4\n",
       "David O. Russell        4\n",
       "Matthew Vaughn          4\n",
       "Guillermo del Toro      4\n",
       "Tim Burton              4\n",
       "Steven Spielberg        4\n",
       "D.J. Caruso             4\n",
       "Guy Ritchie             4\n",
       "Jon Favreau             4\n",
       "Gore Verbinski          4\n",
       "                       ..\n",
       "Lana Wachowski          1\n",
       "Justin Simien           1\n",
       "Justin Tipping          1\n",
       "Jérôme Salle            1\n",
       "Katie Holmes            1\n",
       "Kelly Fremon Craig      1\n",
       "Ken Kwapis              1\n",
       "Ken Loach               1\n",
       "Kenneth Lonergan        1\n",
       "Kevin Lima              1\n",
       "Kimberly Peirce         1\n",
       "Kirsten Sheridan        1\n",
       "Kyle Balda              1\n",
       "Kyle Patrick Alvarez    1\n",
       "Larry Charles           1\n",
       "Marcus Dunstan          1\n",
       "Lee Toland Krieger      1\n",
       "Lee Unkrich             1\n",
       "Lenny Abrahamson        1\n",
       "Leslye Headland         1\n",
       "Levan Gabriadze         1\n",
       "Liam Gavin              1\n",
       "Lisa Addario            1\n",
       "Luca Guadagnino         1\n",
       "Luke Greenfield         1\n",
       "Luke Scott              1\n",
       "Lynne Ramsay            1\n",
       "Makoto Shinkai          1\n",
       "Malcolm D. Lee          1\n",
       "Aamir Khan              1\n",
       "Length: 644, dtype: int64"
      ]
     },
     "execution_count": 3,
     "metadata": {},
     "output_type": "execute_result"
    }
   ],
   "source": [
    "# which director has directed the most movies?\n",
    "df.groupby(\"director\").size().sort_values(ascending=False)\n",
    "\n",
    "# How to do the above using .apply instead of .size()?"
   ]
  },
  {
   "cell_type": "code",
   "execution_count": null,
   "metadata": {},
   "outputs": [],
   "source": [
    "\"\"\"\n",
    "How to divide the movies into \"long\" and \"short\" movies according to whether time_in_min is above the median?\n",
    "What is the mean rating of each category?\n",
    "\"\"\"\n",
    "# length_category = df.time_in_min.apply(lambda x: \"long\" if x >= df.time_in_min.median() else \"short\")\n",
    "# df.assign(length=length_category).groupby(\"length\")['rating'].mean()\n",
    "\n",
    "\"\"\" \n",
    "Create a new column called rating_category based on the following rules:\n",
    "    high: rating >= 8\n",
    "    medium: 6 =< rating < 8\n",
    "    low: rating < 6\n",
    "How many movies are in each category?\n",
    "\"\"\"\n",
    "df.rating.apply(lambda x: \"high\" if x>=8 else \"medium\" if x >= 6 else \"low\").value_counts()\n"
   ]
  },
  {
   "cell_type": "code",
   "execution_count": null,
   "metadata": {},
   "outputs": [],
   "source": [
    "# combine df and df_meta based on movie title\n",
    "df = df.set_index(\"title\").join(df_meta.set_index(\"title\")).reset_index()"
   ]
  },
  {
   "cell_type": "code",
   "execution_count": null,
   "metadata": {
    "scrolled": true
   },
   "outputs": [],
   "source": [
    "# which month of the year has the best revenue on average?\n",
    "month_col = df.release_date.apply(lambda x: x.split(\"-\")[1] if not pd.isnull(x) else None)\n",
    "month_col\n",
    "# df.assign(month=month_col).groupby(\"month\")['revenue_in_mill'].mean().sort_values(ascending=False)"
   ]
  },
  {
   "cell_type": "code",
   "execution_count": null,
   "metadata": {},
   "outputs": [],
   "source": [
    "# Have the ratings increased/decreased during the 10 years? Plot the mean ratings.\n",
    "# df.groupby(\"year\").apply(lambda x: x.iloc[:2])\n",
    "# df.groupby(\"year\")['rating'].mean()\n",
    "# df.groupby(\"year\")['rating'].agg(\"mean\")\n",
    "# df.groupby(\"year\")['rating'].agg(lambda x: sum(x) / len(x))"
   ]
  },
  {
   "cell_type": "code",
   "execution_count": null,
   "metadata": {},
   "outputs": [],
   "source": [
    "# In total, how many movies have been directed by the following directors?\n",
    "# directors = ['Ridley Scott', 'Michael Bay', 'David Yates', 'Paul W.S. Anderson', 'M. Night Shyamalan']\n",
    "# df[df.director.isin(directors)]\n",
    "# df.query(\"director in @directors\")\n",
    "\n",
    "# df[df.description.str.contains(\"murder\")]\n",
    "# df[df.description.str.lower().str.contains(\"murder\")]\n",
    "# df[df.genre.str.match(\"Crime|Mystery|Thriller\")]['rating'].mean()\n",
    "\n",
    "\n",
    "# Which movie has mentioned \"girl\" or \"crime\" the most times in the description?\n",
    "# hint: str.findall"
   ]
  }
 ],
 "metadata": {
  "kernelspec": {
   "display_name": "Python 3",
   "language": "python",
   "name": "python3"
  },
  "language_info": {
   "codemirror_mode": {
    "name": "ipython",
    "version": 3
   },
   "file_extension": ".py",
   "mimetype": "text/x-python",
   "name": "python",
   "nbconvert_exporter": "python",
   "pygments_lexer": "ipython3",
   "version": "3.6.0"
  }
 },
 "nbformat": 4,
 "nbformat_minor": 4
}
